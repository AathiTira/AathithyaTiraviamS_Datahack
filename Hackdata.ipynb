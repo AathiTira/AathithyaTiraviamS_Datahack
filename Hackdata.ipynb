{
 "cells": [
  {
   "cell_type": "code",
   "execution_count": 46,
   "id": "cb7c6343-8fe2-43ab-955c-da477fc32988",
   "metadata": {},
   "outputs": [],
   "source": [
    "import pandas as pd\n",
    "import numpy as np\n",
    "from sklearn.model_selection import train_test_split, GridSearchCV\n",
    "from sklearn.preprocessing import StandardScaler, OneHotEncoder\n",
    "from sklearn.compose import ColumnTransformer\n",
    "from sklearn.pipeline import Pipeline\n",
    "from sklearn.ensemble import RandomForestClassifier\n",
    "from sklearn.metrics import roc_auc_score\n",
    "from sklearn.multioutput import MultiOutputClassifier"
   ]
  },
  {
   "cell_type": "code",
   "execution_count": 47,
   "id": "4124a290-38dc-4261-b72f-8d8f507515fa",
   "metadata": {},
   "outputs": [],
   "source": [
    "# Load the training set features and labels\n",
    "features = pd.read_csv('training_set_features.csv')\n",
    "labels = pd.read_csv('training_set_labels.csv')"
   ]
  },
  {
   "cell_type": "code",
   "execution_count": 48,
   "id": "5c902081-4e60-40d4-a962-ae33af8a91bf",
   "metadata": {},
   "outputs": [
    {
     "name": "stdout",
     "output_type": "stream",
     "text": [
      "Features column names: Index(['respondent_id', 'xyz_concern', 'xyz_knowledge',\n",
      "       'behavioral_antiviral_meds', 'behavioral_avoidance',\n",
      "       'behavioral_face_mask', 'behavioral_wash_hands',\n",
      "       'behavioral_large_gatherings', 'behavioral_outside_home',\n",
      "       'behavioral_touch_face', 'doctor_recc_xyz', 'doctor_recc_seasonal',\n",
      "       'chronic_med_condition', 'child_under_6_months', 'health_worker',\n",
      "       'health_insurance', 'opinion_xyz_vacc_effective', 'opinion_xyz_risk',\n",
      "       'opinion_xyz_sick_from_vacc', 'opinion_seas_vacc_effective',\n",
      "       'opinion_seas_risk', 'opinion_seas_sick_from_vacc', 'age_group',\n",
      "       'education', 'race', 'sex', 'income_poverty', 'marital_status',\n",
      "       'rent_or_own', 'employment_status', 'hhs_geo_region', 'census_msa',\n",
      "       'household_adults', 'household_children', 'employment_industry',\n",
      "       'employment_occupation'],\n",
      "      dtype='object')\n",
      "Labels column names: Index(['respondent_id', 'xyz_vaccine', 'seasonal_vaccine'], dtype='object')\n"
     ]
    }
   ],
   "source": [
    "# Display the column names\n",
    "print(\"Features column names:\", features.columns)\n",
    "print(\"Labels column names:\", labels.columns)"
   ]
  },
  {
   "cell_type": "code",
   "execution_count": 49,
   "id": "27971f7a-abb3-48ed-9ab4-60dc643b19ee",
   "metadata": {},
   "outputs": [],
   "source": [
    "# Ensure the target columns exist in the labels dataset\n",
    "if 'xyz_vaccine' not in labels.columns or 'seasonal_vaccine' not in labels.columns:\n",
    "    raise ValueError(\"Target columns 'xyz_vaccine' and 'seasonal_vaccine' not found in the labels dataset.\")\n",
    "\n",
    "# Merge features and labels on 'respondent_id'\n",
    "data = pd.merge(features, labels, on='respondent_id')\n",
    "\n",
    "# Handle missing values (simple strategy: fill with median for numerical and mode for categorical)\n",
    "for col in data.select_dtypes(include=['object']).columns:\n",
    "    data[col].fillna(data[col].mode()[0], inplace=True)\n",
    "for col in data.select_dtypes(include=['number']).columns:\n",
    "    data[col].fillna(data[col].median(), inplace=True)\n",
    "\n",
    "# Separate features and target variables\n",
    "X = data.drop(columns=['respondent_id', 'xyz_vaccine', 'seasonal_vaccine'])\n",
    "y = data[['xyz_vaccine', 'seasonal_vaccine']]"
   ]
  },
  {
   "cell_type": "code",
   "execution_count": 50,
   "id": "d66f96ea-9ffe-47a8-b391-179bf0bbbecd",
   "metadata": {},
   "outputs": [],
   "source": [
    "# Check if the specified categorical features are present in the dataset\n",
    "for feature in categorical_features:\n",
    "    if feature not in X.columns:\n",
    "        raise ValueError(f\"Categorical feature '{feature}' not found in the dataset.\")\n",
    "\n",
    "# Check if the specified numerical features are present in the dataset\n",
    "for feature in numerical_features:\n",
    "    if feature not in X.columns:\n",
    "        raise ValueError(f\"Numerical feature '{feature}' not found in the dataset.\")\n",
    "\n",
    "# Preprocessor for numerical and categorical data\n",
    "preprocessor = ColumnTransformer(\n",
    "    transformers=[\n",
    "        ('num', StandardScaler(), numerical_features),\n",
    "        ('cat', OneHotEncoder(handle_unknown='ignore'), categorical_features)\n",
    "    ])"
   ]
  },
  {
   "cell_type": "code",
   "execution_count": 51,
   "id": "72eb1c98-1aaa-43e2-a065-ca47625dab3c",
   "metadata": {},
   "outputs": [],
   "source": [
    "# Create the model\n",
    "model = MultiOutputClassifier(RandomForestClassifier(n_estimators=100, random_state=42))"
   ]
  },
  {
   "cell_type": "code",
   "execution_count": 52,
   "id": "56fce222-2734-4fa1-befc-456cfae9a1b4",
   "metadata": {},
   "outputs": [],
   "source": [
    "# Create the pipeline\n",
    "pipeline = Pipeline(steps=[('preprocessor', preprocessor),\n",
    "                           ('classifier', model)])"
   ]
  },
  {
   "cell_type": "code",
   "execution_count": 53,
   "id": "87a39b21-ea75-41f1-8a0d-f64a8e75f767",
   "metadata": {},
   "outputs": [],
   "source": [
    "# Split the data into training and validation sets\n",
    "X_train, X_val, y_train, y_val = train_test_split(X, y, test_size=0.2, random_state=42)"
   ]
  },
  {
   "cell_type": "code",
   "execution_count": 54,
   "id": "9409a1e1-06a7-4845-bc5e-cfd90e5e0418",
   "metadata": {},
   "outputs": [
    {
     "data": {
      "text/html": [
       "<style>#sk-container-id-2 {color: black;background-color: white;}#sk-container-id-2 pre{padding: 0;}#sk-container-id-2 div.sk-toggleable {background-color: white;}#sk-container-id-2 label.sk-toggleable__label {cursor: pointer;display: block;width: 100%;margin-bottom: 0;padding: 0.3em;box-sizing: border-box;text-align: center;}#sk-container-id-2 label.sk-toggleable__label-arrow:before {content: \"▸\";float: left;margin-right: 0.25em;color: #696969;}#sk-container-id-2 label.sk-toggleable__label-arrow:hover:before {color: black;}#sk-container-id-2 div.sk-estimator:hover label.sk-toggleable__label-arrow:before {color: black;}#sk-container-id-2 div.sk-toggleable__content {max-height: 0;max-width: 0;overflow: hidden;text-align: left;background-color: #f0f8ff;}#sk-container-id-2 div.sk-toggleable__content pre {margin: 0.2em;color: black;border-radius: 0.25em;background-color: #f0f8ff;}#sk-container-id-2 input.sk-toggleable__control:checked~div.sk-toggleable__content {max-height: 200px;max-width: 100%;overflow: auto;}#sk-container-id-2 input.sk-toggleable__control:checked~label.sk-toggleable__label-arrow:before {content: \"▾\";}#sk-container-id-2 div.sk-estimator input.sk-toggleable__control:checked~label.sk-toggleable__label {background-color: #d4ebff;}#sk-container-id-2 div.sk-label input.sk-toggleable__control:checked~label.sk-toggleable__label {background-color: #d4ebff;}#sk-container-id-2 input.sk-hidden--visually {border: 0;clip: rect(1px 1px 1px 1px);clip: rect(1px, 1px, 1px, 1px);height: 1px;margin: -1px;overflow: hidden;padding: 0;position: absolute;width: 1px;}#sk-container-id-2 div.sk-estimator {font-family: monospace;background-color: #f0f8ff;border: 1px dotted black;border-radius: 0.25em;box-sizing: border-box;margin-bottom: 0.5em;}#sk-container-id-2 div.sk-estimator:hover {background-color: #d4ebff;}#sk-container-id-2 div.sk-parallel-item::after {content: \"\";width: 100%;border-bottom: 1px solid gray;flex-grow: 1;}#sk-container-id-2 div.sk-label:hover label.sk-toggleable__label {background-color: #d4ebff;}#sk-container-id-2 div.sk-serial::before {content: \"\";position: absolute;border-left: 1px solid gray;box-sizing: border-box;top: 0;bottom: 0;left: 50%;z-index: 0;}#sk-container-id-2 div.sk-serial {display: flex;flex-direction: column;align-items: center;background-color: white;padding-right: 0.2em;padding-left: 0.2em;position: relative;}#sk-container-id-2 div.sk-item {position: relative;z-index: 1;}#sk-container-id-2 div.sk-parallel {display: flex;align-items: stretch;justify-content: center;background-color: white;position: relative;}#sk-container-id-2 div.sk-item::before, #sk-container-id-2 div.sk-parallel-item::before {content: \"\";position: absolute;border-left: 1px solid gray;box-sizing: border-box;top: 0;bottom: 0;left: 50%;z-index: -1;}#sk-container-id-2 div.sk-parallel-item {display: flex;flex-direction: column;z-index: 1;position: relative;background-color: white;}#sk-container-id-2 div.sk-parallel-item:first-child::after {align-self: flex-end;width: 50%;}#sk-container-id-2 div.sk-parallel-item:last-child::after {align-self: flex-start;width: 50%;}#sk-container-id-2 div.sk-parallel-item:only-child::after {width: 0;}#sk-container-id-2 div.sk-dashed-wrapped {border: 1px dashed gray;margin: 0 0.4em 0.5em 0.4em;box-sizing: border-box;padding-bottom: 0.4em;background-color: white;}#sk-container-id-2 div.sk-label label {font-family: monospace;font-weight: bold;display: inline-block;line-height: 1.2em;}#sk-container-id-2 div.sk-label-container {text-align: center;}#sk-container-id-2 div.sk-container {/* jupyter's `normalize.less` sets `[hidden] { display: none; }` but bootstrap.min.css set `[hidden] { display: none !important; }` so we also need the `!important` here to be able to override the default hidden behavior on the sphinx rendered scikit-learn.org. See: https://github.com/scikit-learn/scikit-learn/issues/21755 */display: inline-block !important;position: relative;}#sk-container-id-2 div.sk-text-repr-fallback {display: none;}</style><div id=\"sk-container-id-2\" class=\"sk-top-container\"><div class=\"sk-text-repr-fallback\"><pre>Pipeline(steps=[(&#x27;preprocessor&#x27;,\n",
       "                 ColumnTransformer(transformers=[(&#x27;num&#x27;, StandardScaler(), []),\n",
       "                                                 (&#x27;cat&#x27;,\n",
       "                                                  OneHotEncoder(handle_unknown=&#x27;ignore&#x27;),\n",
       "                                                  [&#x27;age_group&#x27;, &#x27;education&#x27;,\n",
       "                                                   &#x27;race&#x27;, &#x27;sex&#x27;,\n",
       "                                                   &#x27;income_poverty&#x27;,\n",
       "                                                   &#x27;marital_status&#x27;,\n",
       "                                                   &#x27;rent_or_own&#x27;,\n",
       "                                                   &#x27;employment_status&#x27;,\n",
       "                                                   &#x27;hhs_geo_region&#x27;,\n",
       "                                                   &#x27;census_msa&#x27;,\n",
       "                                                   &#x27;employment_industry&#x27;,\n",
       "                                                   &#x27;employment_occupation&#x27;])])),\n",
       "                (&#x27;classifier&#x27;,\n",
       "                 MultiOutputClassifier(estimator=RandomForestClassifier(random_state=42)))])</pre><b>In a Jupyter environment, please rerun this cell to show the HTML representation or trust the notebook. <br />On GitHub, the HTML representation is unable to render, please try loading this page with nbviewer.org.</b></div><div class=\"sk-container\" hidden><div class=\"sk-item sk-dashed-wrapped\"><div class=\"sk-label-container\"><div class=\"sk-label sk-toggleable\"><input class=\"sk-toggleable__control sk-hidden--visually\" id=\"sk-estimator-id-10\" type=\"checkbox\" ><label for=\"sk-estimator-id-10\" class=\"sk-toggleable__label sk-toggleable__label-arrow\">Pipeline</label><div class=\"sk-toggleable__content\"><pre>Pipeline(steps=[(&#x27;preprocessor&#x27;,\n",
       "                 ColumnTransformer(transformers=[(&#x27;num&#x27;, StandardScaler(), []),\n",
       "                                                 (&#x27;cat&#x27;,\n",
       "                                                  OneHotEncoder(handle_unknown=&#x27;ignore&#x27;),\n",
       "                                                  [&#x27;age_group&#x27;, &#x27;education&#x27;,\n",
       "                                                   &#x27;race&#x27;, &#x27;sex&#x27;,\n",
       "                                                   &#x27;income_poverty&#x27;,\n",
       "                                                   &#x27;marital_status&#x27;,\n",
       "                                                   &#x27;rent_or_own&#x27;,\n",
       "                                                   &#x27;employment_status&#x27;,\n",
       "                                                   &#x27;hhs_geo_region&#x27;,\n",
       "                                                   &#x27;census_msa&#x27;,\n",
       "                                                   &#x27;employment_industry&#x27;,\n",
       "                                                   &#x27;employment_occupation&#x27;])])),\n",
       "                (&#x27;classifier&#x27;,\n",
       "                 MultiOutputClassifier(estimator=RandomForestClassifier(random_state=42)))])</pre></div></div></div><div class=\"sk-serial\"><div class=\"sk-item sk-dashed-wrapped\"><div class=\"sk-label-container\"><div class=\"sk-label sk-toggleable\"><input class=\"sk-toggleable__control sk-hidden--visually\" id=\"sk-estimator-id-11\" type=\"checkbox\" ><label for=\"sk-estimator-id-11\" class=\"sk-toggleable__label sk-toggleable__label-arrow\">preprocessor: ColumnTransformer</label><div class=\"sk-toggleable__content\"><pre>ColumnTransformer(transformers=[(&#x27;num&#x27;, StandardScaler(), []),\n",
       "                                (&#x27;cat&#x27;, OneHotEncoder(handle_unknown=&#x27;ignore&#x27;),\n",
       "                                 [&#x27;age_group&#x27;, &#x27;education&#x27;, &#x27;race&#x27;, &#x27;sex&#x27;,\n",
       "                                  &#x27;income_poverty&#x27;, &#x27;marital_status&#x27;,\n",
       "                                  &#x27;rent_or_own&#x27;, &#x27;employment_status&#x27;,\n",
       "                                  &#x27;hhs_geo_region&#x27;, &#x27;census_msa&#x27;,\n",
       "                                  &#x27;employment_industry&#x27;,\n",
       "                                  &#x27;employment_occupation&#x27;])])</pre></div></div></div><div class=\"sk-parallel\"><div class=\"sk-parallel-item\"><div class=\"sk-item\"><div class=\"sk-label-container\"><div class=\"sk-label sk-toggleable\"><input class=\"sk-toggleable__control sk-hidden--visually\" id=\"sk-estimator-id-12\" type=\"checkbox\" ><label for=\"sk-estimator-id-12\" class=\"sk-toggleable__label sk-toggleable__label-arrow\">num</label><div class=\"sk-toggleable__content\"><pre>[]</pre></div></div></div><div class=\"sk-serial\"><div class=\"sk-item\"><div class=\"sk-estimator sk-toggleable\"><input class=\"sk-toggleable__control sk-hidden--visually\" id=\"sk-estimator-id-13\" type=\"checkbox\" ><label for=\"sk-estimator-id-13\" class=\"sk-toggleable__label sk-toggleable__label-arrow\">StandardScaler</label><div class=\"sk-toggleable__content\"><pre>StandardScaler()</pre></div></div></div></div></div></div><div class=\"sk-parallel-item\"><div class=\"sk-item\"><div class=\"sk-label-container\"><div class=\"sk-label sk-toggleable\"><input class=\"sk-toggleable__control sk-hidden--visually\" id=\"sk-estimator-id-14\" type=\"checkbox\" ><label for=\"sk-estimator-id-14\" class=\"sk-toggleable__label sk-toggleable__label-arrow\">cat</label><div class=\"sk-toggleable__content\"><pre>[&#x27;age_group&#x27;, &#x27;education&#x27;, &#x27;race&#x27;, &#x27;sex&#x27;, &#x27;income_poverty&#x27;, &#x27;marital_status&#x27;, &#x27;rent_or_own&#x27;, &#x27;employment_status&#x27;, &#x27;hhs_geo_region&#x27;, &#x27;census_msa&#x27;, &#x27;employment_industry&#x27;, &#x27;employment_occupation&#x27;]</pre></div></div></div><div class=\"sk-serial\"><div class=\"sk-item\"><div class=\"sk-estimator sk-toggleable\"><input class=\"sk-toggleable__control sk-hidden--visually\" id=\"sk-estimator-id-15\" type=\"checkbox\" ><label for=\"sk-estimator-id-15\" class=\"sk-toggleable__label sk-toggleable__label-arrow\">OneHotEncoder</label><div class=\"sk-toggleable__content\"><pre>OneHotEncoder(handle_unknown=&#x27;ignore&#x27;)</pre></div></div></div></div></div></div></div></div><div class=\"sk-item sk-dashed-wrapped\"><div class=\"sk-label-container\"><div class=\"sk-label sk-toggleable\"><input class=\"sk-toggleable__control sk-hidden--visually\" id=\"sk-estimator-id-16\" type=\"checkbox\" ><label for=\"sk-estimator-id-16\" class=\"sk-toggleable__label sk-toggleable__label-arrow\">classifier: MultiOutputClassifier</label><div class=\"sk-toggleable__content\"><pre>MultiOutputClassifier(estimator=RandomForestClassifier(random_state=42))</pre></div></div></div><div class=\"sk-parallel\"><div class=\"sk-parallel-item\"><div class=\"sk-item\"><div class=\"sk-label-container\"><div class=\"sk-label sk-toggleable\"><input class=\"sk-toggleable__control sk-hidden--visually\" id=\"sk-estimator-id-17\" type=\"checkbox\" ><label for=\"sk-estimator-id-17\" class=\"sk-toggleable__label sk-toggleable__label-arrow\">estimator: RandomForestClassifier</label><div class=\"sk-toggleable__content\"><pre>RandomForestClassifier(random_state=42)</pre></div></div></div><div class=\"sk-serial\"><div class=\"sk-item\"><div class=\"sk-estimator sk-toggleable\"><input class=\"sk-toggleable__control sk-hidden--visually\" id=\"sk-estimator-id-18\" type=\"checkbox\" ><label for=\"sk-estimator-id-18\" class=\"sk-toggleable__label sk-toggleable__label-arrow\">RandomForestClassifier</label><div class=\"sk-toggleable__content\"><pre>RandomForestClassifier(random_state=42)</pre></div></div></div></div></div></div></div></div></div></div></div></div>"
      ],
      "text/plain": [
       "Pipeline(steps=[('preprocessor',\n",
       "                 ColumnTransformer(transformers=[('num', StandardScaler(), []),\n",
       "                                                 ('cat',\n",
       "                                                  OneHotEncoder(handle_unknown='ignore'),\n",
       "                                                  ['age_group', 'education',\n",
       "                                                   'race', 'sex',\n",
       "                                                   'income_poverty',\n",
       "                                                   'marital_status',\n",
       "                                                   'rent_or_own',\n",
       "                                                   'employment_status',\n",
       "                                                   'hhs_geo_region',\n",
       "                                                   'census_msa',\n",
       "                                                   'employment_industry',\n",
       "                                                   'employment_occupation'])])),\n",
       "                ('classifier',\n",
       "                 MultiOutputClassifier(estimator=RandomForestClassifier(random_state=42)))])"
      ]
     },
     "execution_count": 54,
     "metadata": {},
     "output_type": "execute_result"
    }
   ],
   "source": [
    "# Train the model\n",
    "pipeline.fit(X_train, y_train)"
   ]
  },
  {
   "cell_type": "code",
   "execution_count": 55,
   "id": "7d8dd07b-d2b8-4a44-a7ec-b7740367ece3",
   "metadata": {},
   "outputs": [],
   "source": [
    "# Predict probabilities on the validation set\n",
    "y_pred_proba = pipeline.predict_proba(X_val)"
   ]
  },
  {
   "cell_type": "code",
   "execution_count": 56,
   "id": "661b2b1a-ee44-4eb4-b5ee-f52db6774161",
   "metadata": {},
   "outputs": [],
   "source": [
    "# Extract the probabilities for each target variable\n",
    "xyz_pred_proba = y_pred_proba[0][:, 1]\n",
    "seasonal_pred_proba = y_pred_proba[1][:, 1]"
   ]
  },
  {
   "cell_type": "code",
   "execution_count": 57,
   "id": "f0af229d-2371-45d6-8535-5f7761bcd61b",
   "metadata": {},
   "outputs": [
    {
     "name": "stdout",
     "output_type": "stream",
     "text": [
      "XYZ Vaccine AUC: 0.5734506971232635\n",
      "Seasonal Vaccine AUC: 0.6484781411267908\n"
     ]
    }
   ],
   "source": [
    "# Evaluate the model using ROC AUC score\n",
    "xyz_auc = roc_auc_score(y_val['xyz_vaccine'], xyz_pred_proba)\n",
    "seasonal_auc = roc_auc_score(y_val['seasonal_vaccine'], seasonal_pred_proba)\n",
    "print(f'XYZ Vaccine AUC: {xyz_auc}')\n",
    "print(f'Seasonal Vaccine AUC: {seasonal_auc}')"
   ]
  },
  {
   "cell_type": "code",
   "execution_count": 58,
   "id": "fb41d134-067b-4802-b62d-101eeaef2306",
   "metadata": {},
   "outputs": [],
   "source": [
    "# Load the test data\n",
    "test_features = pd.read_csv('test_set_features.csv')"
   ]
  },
  {
   "cell_type": "code",
   "execution_count": 59,
   "id": "fbf5a9b3-5115-451d-8726-188bc53b7c53",
   "metadata": {},
   "outputs": [],
   "source": [
    "# Handle missing values in test data\n",
    "for col in test_features.select_dtypes(include=['object']).columns:\n",
    "    test_features[col].fillna(test_features[col].mode()[0], inplace=True)\n",
    "for col in test_features.select_dtypes(include=['number']).columns:\n",
    "    test_features[col].fillna(test_features[col].median(), inplace=True)"
   ]
  },
  {
   "cell_type": "code",
   "execution_count": 60,
   "id": "c071e364-6b72-4097-ac81-27f506b1dfd2",
   "metadata": {},
   "outputs": [],
   "source": [
    "# Predict probabilities on the test set\n",
    "test_pred_proba = pipeline.predict_proba(test_features.drop(columns=['respondent_id']))"
   ]
  },
  {
   "cell_type": "code",
   "execution_count": 61,
   "id": "22520583-4a06-416a-bbd8-4103ce573c0f",
   "metadata": {},
   "outputs": [],
   "source": [
    "# Prepare the submission file\n",
    "submission = pd.DataFrame({\n",
    "    'respondent_id': test_features['respondent_id'],\n",
    "    'xyz_vaccine': test_pred_proba[0][:, 1],\n",
    "    'seasonal_vaccine': test_pred_proba[1][:, 1]\n",
    "})"
   ]
  },
  {
   "cell_type": "code",
   "execution_count": 62,
   "id": "8ae9e16d-77b2-4349-b98e-ebc20520ee40",
   "metadata": {},
   "outputs": [],
   "source": [
    "# Save the submission file\n",
    "submission.to_csv('submission.csv', index=False)"
   ]
  },
  {
   "cell_type": "code",
   "execution_count": null,
   "id": "72245b23-33ab-4f36-aded-500fac6ff0a6",
   "metadata": {},
   "outputs": [],
   "source": []
  }
 ],
 "metadata": {
  "kernelspec": {
   "display_name": "Python 3 (ipykernel)",
   "language": "python",
   "name": "python3"
  },
  "language_info": {
   "codemirror_mode": {
    "name": "ipython",
    "version": 3
   },
   "file_extension": ".py",
   "mimetype": "text/x-python",
   "name": "python",
   "nbconvert_exporter": "python",
   "pygments_lexer": "ipython3",
   "version": "3.11.7"
  }
 },
 "nbformat": 4,
 "nbformat_minor": 5
}
